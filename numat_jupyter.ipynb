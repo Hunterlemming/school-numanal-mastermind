{
 "cells": [
  {
   "cell_type": "code",
   "execution_count": 5,
   "metadata": {
    "collapsed": true,
    "pycharm": {
     "name": "#%%\n"
    }
   },
   "outputs": [],
   "source": [
    "import pandas as pd\n",
    "#from IPython.display import Image\n",
    "import numpy as np"
   ]
  },
  {
   "cell_type": "markdown",
   "source": [
    "<b>1. feladat: Gauss Elimination, Inverz</b>\n",
    "<br>\n",
    "Partial pivoting is about changing the rows of the matrix,\n",
    "effectively changing the order of the equations.\n",
    "Full pivoting also changes the variables order\n",
    "\n",
    "Gauss\n",
    "https://onlinemschool.com/math/assistance/equation/gaus/"
   ],
   "metadata": {
    "collapsed": false,
    "pycharm": {
     "name": "#%% md\n"
    }
   }
  },
  {
   "cell_type": "code",
   "execution_count": 6,
   "outputs": [
    {
     "data": {
      "text/plain": "array([[-0.21428571, -0.57142857,  0.35714286],\n       [ 0.92857143,  0.14285714, -0.21428571],\n       [-0.64285714,  0.28571429,  0.07142857]])"
     },
     "execution_count": 6,
     "metadata": {},
     "output_type": "execute_result"
    }
   ],
   "source": [
    "np.linalg.inv([[1,2,1], [1,3,4], [5,6,7]])"
   ],
   "metadata": {
    "collapsed": false,
    "pycharm": {
     "name": "#%%\n"
    }
   }
  },
  {
   "cell_type": "markdown",
   "source": [
    "<b>2. feladat: Lagrange Interpoláció\n",
    "<br>\n",
    "\n",
    "Képletgyűjtemény + Interpoláció -kidolgozott feladatok pdf\n",
    "<br>\n",
    "\n",
    "Ellenőrzésre: https://www.dcode.fr/lagrange-interpolating-polynomial"
   ],
   "metadata": {
    "collapsed": false,
    "pycharm": {
     "name": "#%% md\n"
    }
   }
  },
  {
   "cell_type": "code",
   "source": [
    "import interpolation.newton_divided as nd\n",
    "#Image(filename='./img/lagrange.png')\n",
    "\n",
    "# number of inputs given\n",
    "n = 3\n",
    "y = [[0 for i in range(10)]\n",
    "     for j in range(10)]\n",
    "\n",
    "x = [0.1, 0.5, 0.9]\n",
    "\n",
    "\n",
    "\n",
    "def f(x):\n",
    "    return (x**5)**(1/2) # ^5 gyök2\n",
    "\n",
    "# y[][] is used for divided difference\n",
    "# table where y[][0] is used for input\n",
    "y[0][0] = f(x[0])\n",
    "y[1][0] = f(x[1])\n",
    "y[2][0] = f(x[2])\n",
    "\n",
    "# calculating divided difference table\n",
    "y = nd.dividedDiffTable(x, y, n)\n",
    "\n",
    "# displaying divided difference table\n",
    "nd.printDiffTable(y, n)\n",
    "\n",
    "# value to be interpolated\n",
    "value = 7\n",
    "\n",
    "# printing the value\n",
    "print(\"\\nValue at\", value, \"is\",\n",
    "      round(nd.applyFormula(value, x, y, n), 2))"
   ],
   "metadata": {
    "collapsed": false,
    "pycharm": {
     "name": "#%%\n"
    }
   },
   "execution_count": 7,
   "outputs": [
    {
     "name": "stdout",
     "output_type": "stream",
     "text": [
      "0.0032 \t 0.434 \t 1.3064 \t \n",
      "0.1768 \t 1.4791 \t \n",
      "0.7684 \t \n",
      "\n",
      "Value at 7 is 61.59\n"
     ]
    }
   ]
  },
  {
   "cell_type": "markdown",
   "source": [
    "<b> Hermite interpolation </b>\n",
    "<br>\n",
    "GYAKOROLNI\n",
    "<br>\n",
    "https://numpy.org/doc/stable/reference/generated/numpy.polynomial.hermite.Hermite.html"
   ],
   "metadata": {
    "collapsed": false,
    "pycharm": {
     "name": "#%% md\n"
    }
   }
  },
  {
   "cell_type": "markdown",
   "source": [
    "Trapéz formula\n",
    "\n",
    "képletgyűjtemény"
   ],
   "metadata": {
    "collapsed": false,
    "pycharm": {
     "name": "#%% md\n"
    }
   }
  },
  {
   "cell_type": "code",
   "execution_count": 8,
   "outputs": [
    {
     "name": "stdout",
     "output_type": "stream",
     "text": [
      "\n",
      "iteration: 1\n",
      "x_0: 2, x_1: 3\n",
      "f(x_0): -2.6109, f(x_1): 3\n",
      "2 - -2.6109*(2-3)) / (-2.6109 - 5.0855) = 2.3392\n",
      "f(x_2)=-1.3229\n",
      "\n",
      "iteration: 2\n",
      "x_1: 3, x_2: 2.3392\n",
      "f(x_1): 5.0855, f(x_2): 2.3392\n",
      "3 - 5.0855*(3-2.3392)) / (5.0855 - -1.3229) = 2.4756\n",
      "f(x_3)=-0.4889\n",
      "\n",
      "iteration: 3\n",
      "x_2: 2.3392, x_3: 2.4756\n",
      "f(x_2): -1.3229, f(x_3): 2.4756\n",
      "2.3392 - -1.3229*(2.3392-2.4756)) / (-1.3229 - -0.4889) = 2.5556\n",
      "f(x_4)=0.101\n",
      "\n",
      "iteration: 4\n",
      "x_3: 2.4756, x_4: 2.5556\n",
      "f(x_3): -0.4889, f(x_4): 2.5556\n",
      "2.4756 - -0.4889*(2.4756-2.5556)) / (-0.4889 - 0.101) = 2.5419\n",
      "f(x_5)=-0.0057\n",
      "Number of steps: 4\n"
     ]
    }
   ],
   "source": [
    "#Szelő módszer\n",
    "from math import e\n",
    "def f(x):\n",
    "    return (e**x)-(5*x) # ^5 gyök2\n",
    "\n",
    "x_0 = 2\n",
    "x_1 = 3\n",
    "\n",
    "hiba = 0.01\n",
    "# r - kerekítésis szám\n",
    "def szelo(x_n1, x_n, i, r):\n",
    "    calc = x_n - (f(x_n)*(x_n-x_n1)) / (f(x_n) - f(x_n1))\n",
    "    print('\\niteration:', i+1)\n",
    "    print(f'x_{i}: {round(x_n,r)}, x_{i+1}: {round(x_n1, r)}')\n",
    "    print(f'f(x_{i}): {round(f(x_n),r)}, f(x_{i+1}): {round(x_n1, r)}')\n",
    "    print(f'{round(x_n, r)} - {round(f(x_n), r)}*({round(x_n, r)}-{round(x_n1, r)})) / ({round(f(x_n), r)} - {round(f(x_n1), r)}) = {round(calc, r)}')\n",
    "    print(f'f(x_{i+2})={round(f(calc), r)}')\n",
    "    return calc\n",
    "\n",
    "f_xn = f(x_0)\n",
    "i = 0\n",
    "x_i = 3\n",
    "x_i1 = 2\n",
    "while abs(f_xn) > hiba:\n",
    "   tmp = szelo(x_i,x_i1, i, 4)\n",
    "   x_i1 = x_i\n",
    "   x_i = tmp\n",
    "\n",
    "   i = i+1\n",
    "   f_xn = f(tmp)\n",
    "\n",
    "print('Number of steps:', i)"
   ],
   "metadata": {
    "collapsed": false,
    "pycharm": {
     "name": "#%%\n"
    }
   }
  },
  {
   "cell_type": "code",
   "execution_count": 9,
   "outputs": [
    {
     "name": "stdout",
     "output_type": "stream",
     "text": [
      "\n",
      "\n",
      "Steps to reach the accuracy:\n",
      "(b-a)*r^n) / 2 < 0.2\n",
      "transformed to n: ln((2*0.2)/(b-a))/ln(r) < n\n",
      "substitutes 1.68518\n",
      "while it must be greater than n (and its an integer) n=2\n",
      "interval length:  0.45\n",
      "x=a+r*(b-a)\n",
      "y=b-r*(b-a)\n",
      "\n",
      "iteration: 1\n",
      "x=-0.2+0.61803*(0.25--0.2)=0.07812\n",
      "f(x)=e^|0.07812|=1.08125\n",
      "y=0.25-0.61803*(0.25--0.2)=-0.02812\n",
      "f(y)=e^|-0.02812|=1.02851\n",
      "f(x) > f(y)\n",
      "a: -0.2 b: 0.07812\n",
      "\n",
      "iteration: 2\n",
      "x=-0.2+0.61803*(0.07812--0.2)=-0.02812\n",
      "f(x)=e^|-0.02812|=1.02851\n",
      "y=0.07812-0.61803*(0.07812--0.2)=-0.09377\n",
      "f(y)=e^|-0.09377|=1.09831\n",
      "f(y) > f(x)\n",
      "a: -0.09377 b: 0.07812\n",
      "\n",
      "interval length < E*2\n",
      "minimum: (a+b)/2=-0.00783\n"
     ]
    }
   ],
   "source": [
    "#aranymetszés\n",
    "from math import e\n",
    "a = -0.2\n",
    "b = 0.25\n",
    "r = 0.61803398\n",
    "rn = 5 #rounding number\n",
    "\n",
    "original_a = a\n",
    "original_b = b\n",
    "\n",
    "pontossag = 0.2\n",
    "\n",
    "\n",
    "print('\\n\\nSteps to reach the accuracy:')\n",
    "\n",
    "print(f'(b-a)*r^n) / 2 < {pontossag}')\n",
    "print(f'transformed to n: ln((2*{pontossag})/(b-a))/ln(r) < n')\n",
    "v = np.log10(pontossag/(original_b - original_a))/np.log10(r)\n",
    "print(f'substitutes {round(v, rn)}')\n",
    "\n",
    "import math\n",
    "print(f'while it must be greater than n (and its an integer) n={math.ceil(v)}')\n",
    "\n",
    "def f(x):\n",
    "    return e**(abs(x))\n",
    "\n",
    "interval_hossz = b - a\n",
    "print('interval length: ', interval_hossz)\n",
    "print('x=a+r*(b-a)')\n",
    "print('y=b-r*(b-a)')\n",
    "\n",
    "for i in range(1,n):\n",
    "    print('\\niteration:', i)\n",
    "    x = a + r * (b - a)\n",
    "    print(f'x={round(a, rn)}+{round(r, rn)}*({round(b, rn)}-{round(a, rn)})={round(x, rn)}')\n",
    "    print(f'f(x)=e^|{round(x, rn)}|={round(f(x), rn)}')\n",
    "    y = b - r * (b - a)\n",
    "    print(f'y={round(b, rn)}-{round(r, rn)}*({round(b, rn)}-{round(a, rn)})={round(y, rn)}')\n",
    "    print(f'f(y)=e^|{round(y, rn)}|={round(f(y), rn)}')\n",
    "    if f(x) >= f(y):\n",
    "        print('f(x) > f(y)')\n",
    "        b = x\n",
    "    else:\n",
    "        print('f(y) > f(x)')\n",
    "        a = y\n",
    "    print(f'a: {round(a, rn)} b: {round(b, rn)}')\n",
    "\n",
    "print('\\ninterval length < E*2')\n",
    "print(f'minimum: (a+b)/2={round((a + b)/2, rn)}')"
   ],
   "metadata": {
    "collapsed": false,
    "pycharm": {
     "name": "#%%\n"
    }
   }
  }
 ],
 "metadata": {
  "kernelspec": {
   "display_name": "Python 3",
   "language": "python",
   "name": "python3"
  },
  "language_info": {
   "codemirror_mode": {
    "name": "ipython",
    "version": 2
   },
   "file_extension": ".py",
   "mimetype": "text/x-python",
   "name": "python",
   "nbconvert_exporter": "python",
   "pygments_lexer": "ipython2",
   "version": "2.7.6"
  }
 },
 "nbformat": 4,
 "nbformat_minor": 0
}